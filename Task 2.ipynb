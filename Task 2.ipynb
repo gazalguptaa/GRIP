{
  "nbformat": 4,
  "nbformat_minor": 0,
  "metadata": {
    "colab": {
      "name": "Untitled1.ipynb",
      "provenance": []
    },
    "kernelspec": {
      "name": "python3",
      "display_name": "Python 3"
    }
  },
  "cells": [
    {
      "cell_type": "markdown",
      "metadata": {
        "id": "YvVRD8H4Racz",
        "colab_type": "text"
      },
      "source": [
        "**TASK 2 - To Explore Supervised Machine Learning**"
      ]
    },
    {
      "cell_type": "markdown",
      "metadata": {
        "id": "LnyaIabbR0ps",
        "colab_type": "text"
      },
      "source": [
        "**Linear Regression**"
      ]
    },
    {
      "cell_type": "code",
      "metadata": {
        "id": "u0B6fAmtRHZV",
        "colab_type": "code",
        "colab": {
          "base_uri": "https://localhost:8080/",
          "height": 34
        },
        "outputId": "eac247c0-dcec-457d-aaa7-6026b07173b7"
      },
      "source": [
        "import pandas as pd\n",
        "import numpy as np\n",
        "import matplotlib.pyplot as plt\n",
        "import matplotlib as cm\n",
        "import seaborn as sns\n",
        "sns.set()\n",
        "\n",
        "data_url = \"http://bit.ly/w-data\"\n",
        "li=pd.read_csv(data_url)\n",
        "print(\"Data import successful\")"
      ],
      "execution_count": 3,
      "outputs": [
        {
          "output_type": "stream",
          "text": [
            "Data import successful\n"
          ],
          "name": "stdout"
        }
      ]
    },
    {
      "cell_type": "code",
      "metadata": {
        "id": "gpfdE5atR9ew",
        "colab_type": "code",
        "colab": {
          "base_uri": "https://localhost:8080/",
          "height": 34
        },
        "outputId": "02e1d075-da27-4eff-9c9c-a8fdf42f0c86"
      },
      "source": [
        "li.shape"
      ],
      "execution_count": 4,
      "outputs": [
        {
          "output_type": "execute_result",
          "data": {
            "text/plain": [
              "(25, 2)"
            ]
          },
          "metadata": {
            "tags": []
          },
          "execution_count": 4
        }
      ]
    },
    {
      "cell_type": "markdown",
      "metadata": {
        "id": "75roaZg8T2FS",
        "colab_type": "text"
      },
      "source": [
        "**The Data has 25 rows and 2 columns**\n",
        "\n",
        "a) Hours of Study\n",
        "\n",
        "b) Scores"
      ]
    },
    {
      "cell_type": "code",
      "metadata": {
        "id": "bxPj6x0dQ61b",
        "colab_type": "code",
        "colab": {
          "base_uri": "https://localhost:8080/",
          "height": 204
        },
        "outputId": "8646ae4c-be3b-44b4-d04a-14cd22ef0937"
      },
      "source": [
        "li.head()"
      ],
      "execution_count": 5,
      "outputs": [
        {
          "output_type": "execute_result",
          "data": {
            "text/html": [
              "<div>\n",
              "<style scoped>\n",
              "    .dataframe tbody tr th:only-of-type {\n",
              "        vertical-align: middle;\n",
              "    }\n",
              "\n",
              "    .dataframe tbody tr th {\n",
              "        vertical-align: top;\n",
              "    }\n",
              "\n",
              "    .dataframe thead th {\n",
              "        text-align: right;\n",
              "    }\n",
              "</style>\n",
              "<table border=\"1\" class=\"dataframe\">\n",
              "  <thead>\n",
              "    <tr style=\"text-align: right;\">\n",
              "      <th></th>\n",
              "      <th>Hours</th>\n",
              "      <th>Scores</th>\n",
              "    </tr>\n",
              "  </thead>\n",
              "  <tbody>\n",
              "    <tr>\n",
              "      <th>0</th>\n",
              "      <td>2.5</td>\n",
              "      <td>21</td>\n",
              "    </tr>\n",
              "    <tr>\n",
              "      <th>1</th>\n",
              "      <td>5.1</td>\n",
              "      <td>47</td>\n",
              "    </tr>\n",
              "    <tr>\n",
              "      <th>2</th>\n",
              "      <td>3.2</td>\n",
              "      <td>27</td>\n",
              "    </tr>\n",
              "    <tr>\n",
              "      <th>3</th>\n",
              "      <td>8.5</td>\n",
              "      <td>75</td>\n",
              "    </tr>\n",
              "    <tr>\n",
              "      <th>4</th>\n",
              "      <td>3.5</td>\n",
              "      <td>30</td>\n",
              "    </tr>\n",
              "  </tbody>\n",
              "</table>\n",
              "</div>"
            ],
            "text/plain": [
              "   Hours  Scores\n",
              "0    2.5      21\n",
              "1    5.1      47\n",
              "2    3.2      27\n",
              "3    8.5      75\n",
              "4    3.5      30"
            ]
          },
          "metadata": {
            "tags": []
          },
          "execution_count": 5
        }
      ]
    },
    {
      "cell_type": "markdown",
      "metadata": {
        "id": "fuNEA2_FUicM",
        "colab_type": "text"
      },
      "source": [
        "Average Hours of Study\n"
      ]
    },
    {
      "cell_type": "code",
      "metadata": {
        "id": "ibdBxSmoUTaY",
        "colab_type": "code",
        "colab": {
          "base_uri": "https://localhost:8080/",
          "height": 34
        },
        "outputId": "8f7eab7c-d70e-4622-c177-ef0cfd41a56d"
      },
      "source": [
        "li['Hours'].mean()"
      ],
      "execution_count": 6,
      "outputs": [
        {
          "output_type": "execute_result",
          "data": {
            "text/plain": [
              "5.012"
            ]
          },
          "metadata": {
            "tags": []
          },
          "execution_count": 6
        }
      ]
    },
    {
      "cell_type": "markdown",
      "metadata": {
        "id": "ubvqEpAdUhEz",
        "colab_type": "text"
      },
      "source": [
        "Average Score\n"
      ]
    },
    {
      "cell_type": "code",
      "metadata": {
        "id": "1CIDL2GFU1ms",
        "colab_type": "code",
        "colab": {
          "base_uri": "https://localhost:8080/",
          "height": 34
        },
        "outputId": "c387a442-2736-4e1e-af8c-8016fb66aa5c"
      },
      "source": [
        "li['Scores'].mean()"
      ],
      "execution_count": 7,
      "outputs": [
        {
          "output_type": "execute_result",
          "data": {
            "text/plain": [
              "51.48"
            ]
          },
          "metadata": {
            "tags": []
          },
          "execution_count": 7
        }
      ]
    },
    {
      "cell_type": "code",
      "metadata": {
        "id": "1Rpt2EvKU8-Z",
        "colab_type": "code",
        "colab": {
          "base_uri": "https://localhost:8080/",
          "height": 68
        },
        "outputId": "94d8027f-f3cb-417c-ec3b-de3f9e8dcbb1"
      },
      "source": [
        "li.iloc[li['Hours'].idxmax()] #maximum hours of study"
      ],
      "execution_count": 8,
      "outputs": [
        {
          "output_type": "execute_result",
          "data": {
            "text/plain": [
              "Hours      9.2\n",
              "Scores    88.0\n",
              "Name: 6, dtype: float64"
            ]
          },
          "metadata": {
            "tags": []
          },
          "execution_count": 8
        }
      ]
    },
    {
      "cell_type": "code",
      "metadata": {
        "id": "_92mF0Q4VaTL",
        "colab_type": "code",
        "colab": {
          "base_uri": "https://localhost:8080/",
          "height": 68
        },
        "outputId": "0299fa2c-eb30-4763-a453-08a6767eea8b"
      },
      "source": [
        "li.iloc[li['Hours'].idxmin()] #minimum hours of study"
      ],
      "execution_count": 9,
      "outputs": [
        {
          "output_type": "execute_result",
          "data": {
            "text/plain": [
              "Hours      1.1\n",
              "Scores    17.0\n",
              "Name: 14, dtype: float64"
            ]
          },
          "metadata": {
            "tags": []
          },
          "execution_count": 9
        }
      ]
    },
    {
      "cell_type": "markdown",
      "metadata": {
        "id": "XXFLAvzUWsof",
        "colab_type": "text"
      },
      "source": [
        "*Taking 33 out of 100 as general passing marks as scores are ranging from 17 to 95*"
      ]
    },
    {
      "cell_type": "markdown",
      "metadata": {
        "id": "Rf9AFjtVXlx-",
        "colab_type": "text"
      },
      "source": [
        "Number of students passed"
      ]
    },
    {
      "cell_type": "code",
      "metadata": {
        "id": "Tvr136EPViFE",
        "colab_type": "code",
        "colab": {
          "base_uri": "https://localhost:8080/",
          "height": 376
        },
        "outputId": "04de70e8-ec64-45da-9e40-7d49fcbf6a1d"
      },
      "source": [
        "li[li['Scores']>=33].sort_values(by='Scores',ascending=False).style.background_gradient(subset=['Scores'],cmap=\"Greens\")"
      ],
      "execution_count": 10,
      "outputs": [
        {
          "output_type": "execute_result",
          "data": {
            "text/html": [
              "<style  type=\"text/css\" >\n",
              "    #T_4a847e98_f8b2_11ea_b146_0242ac1c0002row0_col1 {\n",
              "            background-color:  #00441b;\n",
              "            color:  #f1f1f1;\n",
              "        }    #T_4a847e98_f8b2_11ea_b146_0242ac1c0002row1_col1 {\n",
              "            background-color:  #00692a;\n",
              "            color:  #f1f1f1;\n",
              "        }    #T_4a847e98_f8b2_11ea_b146_0242ac1c0002row2_col1 {\n",
              "            background-color:  #077331;\n",
              "            color:  #f1f1f1;\n",
              "        }    #T_4a847e98_f8b2_11ea_b146_0242ac1c0002row3_col1 {\n",
              "            background-color:  #0b7734;\n",
              "            color:  #f1f1f1;\n",
              "        }    #T_4a847e98_f8b2_11ea_b146_0242ac1c0002row4_col1 {\n",
              "            background-color:  #1e8741;\n",
              "            color:  #000000;\n",
              "        }    #T_4a847e98_f8b2_11ea_b146_0242ac1c0002row5_col1 {\n",
              "            background-color:  #339c52;\n",
              "            color:  #000000;\n",
              "        }    #T_4a847e98_f8b2_11ea_b146_0242ac1c0002row6_col1 {\n",
              "            background-color:  #37a055;\n",
              "            color:  #000000;\n",
              "        }    #T_4a847e98_f8b2_11ea_b146_0242ac1c0002row7_col1 {\n",
              "            background-color:  #58b668;\n",
              "            color:  #000000;\n",
              "        }    #T_4a847e98_f8b2_11ea_b146_0242ac1c0002row8_col1 {\n",
              "            background-color:  #66bd6f;\n",
              "            color:  #000000;\n",
              "        }    #T_4a847e98_f8b2_11ea_b146_0242ac1c0002row9_col1 {\n",
              "            background-color:  #86cc85;\n",
              "            color:  #000000;\n",
              "        }    #T_4a847e98_f8b2_11ea_b146_0242ac1c0002row10_col1 {\n",
              "            background-color:  #92d28f;\n",
              "            color:  #000000;\n",
              "        }    #T_4a847e98_f8b2_11ea_b146_0242ac1c0002row11_col1 {\n",
              "            background-color:  #b2e0ac;\n",
              "            color:  #000000;\n",
              "        }    #T_4a847e98_f8b2_11ea_b146_0242ac1c0002row12_col1 {\n",
              "            background-color:  #d3eecd;\n",
              "            color:  #000000;\n",
              "        }    #T_4a847e98_f8b2_11ea_b146_0242ac1c0002row13_col1 {\n",
              "            background-color:  #e7f6e2;\n",
              "            color:  #000000;\n",
              "        }    #T_4a847e98_f8b2_11ea_b146_0242ac1c0002row14_col1 {\n",
              "            background-color:  #e9f7e5;\n",
              "            color:  #000000;\n",
              "        }    #T_4a847e98_f8b2_11ea_b146_0242ac1c0002row15_col1 {\n",
              "            background-color:  #f7fcf5;\n",
              "            color:  #000000;\n",
              "        }</style><table id=\"T_4a847e98_f8b2_11ea_b146_0242ac1c0002\" ><thead>    <tr>        <th class=\"blank level0\" ></th>        <th class=\"col_heading level0 col0\" >Hours</th>        <th class=\"col_heading level0 col1\" >Scores</th>    </tr></thead><tbody>\n",
              "                <tr>\n",
              "                        <th id=\"T_4a847e98_f8b2_11ea_b146_0242ac1c0002level0_row0\" class=\"row_heading level0 row0\" >15</th>\n",
              "                        <td id=\"T_4a847e98_f8b2_11ea_b146_0242ac1c0002row0_col0\" class=\"data row0 col0\" >8.900000</td>\n",
              "                        <td id=\"T_4a847e98_f8b2_11ea_b146_0242ac1c0002row0_col1\" class=\"data row0 col1\" >95</td>\n",
              "            </tr>\n",
              "            <tr>\n",
              "                        <th id=\"T_4a847e98_f8b2_11ea_b146_0242ac1c0002level0_row1\" class=\"row_heading level0 row1\" >6</th>\n",
              "                        <td id=\"T_4a847e98_f8b2_11ea_b146_0242ac1c0002row1_col0\" class=\"data row1 col0\" >9.200000</td>\n",
              "                        <td id=\"T_4a847e98_f8b2_11ea_b146_0242ac1c0002row1_col1\" class=\"data row1 col1\" >88</td>\n",
              "            </tr>\n",
              "            <tr>\n",
              "                        <th id=\"T_4a847e98_f8b2_11ea_b146_0242ac1c0002level0_row2\" class=\"row_heading level0 row2\" >24</th>\n",
              "                        <td id=\"T_4a847e98_f8b2_11ea_b146_0242ac1c0002row2_col0\" class=\"data row2 col0\" >7.800000</td>\n",
              "                        <td id=\"T_4a847e98_f8b2_11ea_b146_0242ac1c0002row2_col1\" class=\"data row2 col1\" >86</td>\n",
              "            </tr>\n",
              "            <tr>\n",
              "                        <th id=\"T_4a847e98_f8b2_11ea_b146_0242ac1c0002level0_row3\" class=\"row_heading level0 row3\" >10</th>\n",
              "                        <td id=\"T_4a847e98_f8b2_11ea_b146_0242ac1c0002row3_col0\" class=\"data row3 col0\" >7.700000</td>\n",
              "                        <td id=\"T_4a847e98_f8b2_11ea_b146_0242ac1c0002row3_col1\" class=\"data row3 col1\" >85</td>\n",
              "            </tr>\n",
              "            <tr>\n",
              "                        <th id=\"T_4a847e98_f8b2_11ea_b146_0242ac1c0002level0_row4\" class=\"row_heading level0 row4\" >8</th>\n",
              "                        <td id=\"T_4a847e98_f8b2_11ea_b146_0242ac1c0002row4_col0\" class=\"data row4 col0\" >8.300000</td>\n",
              "                        <td id=\"T_4a847e98_f8b2_11ea_b146_0242ac1c0002row4_col1\" class=\"data row4 col1\" >81</td>\n",
              "            </tr>\n",
              "            <tr>\n",
              "                        <th id=\"T_4a847e98_f8b2_11ea_b146_0242ac1c0002level0_row5\" class=\"row_heading level0 row5\" >23</th>\n",
              "                        <td id=\"T_4a847e98_f8b2_11ea_b146_0242ac1c0002row5_col0\" class=\"data row5 col0\" >6.900000</td>\n",
              "                        <td id=\"T_4a847e98_f8b2_11ea_b146_0242ac1c0002row5_col1\" class=\"data row5 col1\" >76</td>\n",
              "            </tr>\n",
              "            <tr>\n",
              "                        <th id=\"T_4a847e98_f8b2_11ea_b146_0242ac1c0002level0_row6\" class=\"row_heading level0 row6\" >3</th>\n",
              "                        <td id=\"T_4a847e98_f8b2_11ea_b146_0242ac1c0002row6_col0\" class=\"data row6 col0\" >8.500000</td>\n",
              "                        <td id=\"T_4a847e98_f8b2_11ea_b146_0242ac1c0002row6_col1\" class=\"data row6 col1\" >75</td>\n",
              "            </tr>\n",
              "            <tr>\n",
              "                        <th id=\"T_4a847e98_f8b2_11ea_b146_0242ac1c0002level0_row7\" class=\"row_heading level0 row7\" >19</th>\n",
              "                        <td id=\"T_4a847e98_f8b2_11ea_b146_0242ac1c0002row7_col0\" class=\"data row7 col0\" >7.400000</td>\n",
              "                        <td id=\"T_4a847e98_f8b2_11ea_b146_0242ac1c0002row7_col1\" class=\"data row7 col1\" >69</td>\n",
              "            </tr>\n",
              "            <tr>\n",
              "                        <th id=\"T_4a847e98_f8b2_11ea_b146_0242ac1c0002level0_row8\" class=\"row_heading level0 row8\" >18</th>\n",
              "                        <td id=\"T_4a847e98_f8b2_11ea_b146_0242ac1c0002row8_col0\" class=\"data row8 col0\" >6.100000</td>\n",
              "                        <td id=\"T_4a847e98_f8b2_11ea_b146_0242ac1c0002row8_col1\" class=\"data row8 col1\" >67</td>\n",
              "            </tr>\n",
              "            <tr>\n",
              "                        <th id=\"T_4a847e98_f8b2_11ea_b146_0242ac1c0002level0_row9\" class=\"row_heading level0 row9\" >11</th>\n",
              "                        <td id=\"T_4a847e98_f8b2_11ea_b146_0242ac1c0002row9_col0\" class=\"data row9 col0\" >5.900000</td>\n",
              "                        <td id=\"T_4a847e98_f8b2_11ea_b146_0242ac1c0002row9_col1\" class=\"data row9 col1\" >62</td>\n",
              "            </tr>\n",
              "            <tr>\n",
              "                        <th id=\"T_4a847e98_f8b2_11ea_b146_0242ac1c0002level0_row10\" class=\"row_heading level0 row10\" >7</th>\n",
              "                        <td id=\"T_4a847e98_f8b2_11ea_b146_0242ac1c0002row10_col0\" class=\"data row10 col0\" >5.500000</td>\n",
              "                        <td id=\"T_4a847e98_f8b2_11ea_b146_0242ac1c0002row10_col1\" class=\"data row10 col1\" >60</td>\n",
              "            </tr>\n",
              "            <tr>\n",
              "                        <th id=\"T_4a847e98_f8b2_11ea_b146_0242ac1c0002level0_row11\" class=\"row_heading level0 row11\" >21</th>\n",
              "                        <td id=\"T_4a847e98_f8b2_11ea_b146_0242ac1c0002row11_col0\" class=\"data row11 col0\" >4.800000</td>\n",
              "                        <td id=\"T_4a847e98_f8b2_11ea_b146_0242ac1c0002row11_col1\" class=\"data row11 col1\" >54</td>\n",
              "            </tr>\n",
              "            <tr>\n",
              "                        <th id=\"T_4a847e98_f8b2_11ea_b146_0242ac1c0002level0_row12\" class=\"row_heading level0 row12\" >1</th>\n",
              "                        <td id=\"T_4a847e98_f8b2_11ea_b146_0242ac1c0002row12_col0\" class=\"data row12 col0\" >5.100000</td>\n",
              "                        <td id=\"T_4a847e98_f8b2_11ea_b146_0242ac1c0002row12_col1\" class=\"data row12 col1\" >47</td>\n",
              "            </tr>\n",
              "            <tr>\n",
              "                        <th id=\"T_4a847e98_f8b2_11ea_b146_0242ac1c0002level0_row13\" class=\"row_heading level0 row13\" >13</th>\n",
              "                        <td id=\"T_4a847e98_f8b2_11ea_b146_0242ac1c0002row13_col0\" class=\"data row13 col0\" >3.300000</td>\n",
              "                        <td id=\"T_4a847e98_f8b2_11ea_b146_0242ac1c0002row13_col1\" class=\"data row13 col1\" >42</td>\n",
              "            </tr>\n",
              "            <tr>\n",
              "                        <th id=\"T_4a847e98_f8b2_11ea_b146_0242ac1c0002level0_row14\" class=\"row_heading level0 row14\" >12</th>\n",
              "                        <td id=\"T_4a847e98_f8b2_11ea_b146_0242ac1c0002row14_col0\" class=\"data row14 col0\" >4.500000</td>\n",
              "                        <td id=\"T_4a847e98_f8b2_11ea_b146_0242ac1c0002row14_col1\" class=\"data row14 col1\" >41</td>\n",
              "            </tr>\n",
              "            <tr>\n",
              "                        <th id=\"T_4a847e98_f8b2_11ea_b146_0242ac1c0002level0_row15\" class=\"row_heading level0 row15\" >22</th>\n",
              "                        <td id=\"T_4a847e98_f8b2_11ea_b146_0242ac1c0002row15_col0\" class=\"data row15 col0\" >3.800000</td>\n",
              "                        <td id=\"T_4a847e98_f8b2_11ea_b146_0242ac1c0002row15_col1\" class=\"data row15 col1\" >35</td>\n",
              "            </tr>\n",
              "    </tbody></table>"
            ],
            "text/plain": [
              "<pandas.io.formats.style.Styler at 0x7f0e9ebba630>"
            ]
          },
          "metadata": {
            "tags": []
          },
          "execution_count": 10
        }
      ]
    },
    {
      "cell_type": "markdown",
      "metadata": {
        "id": "w-V0gvx3X2Zi",
        "colab_type": "text"
      },
      "source": [
        "Number of Students Failed"
      ]
    },
    {
      "cell_type": "code",
      "metadata": {
        "id": "PuVVQb8aXh-_",
        "colab_type": "code",
        "colab": {
          "base_uri": "https://localhost:8080/",
          "height": 229
        },
        "outputId": "2c269362-94ea-4624-e373-5480bf8b8fbb"
      },
      "source": [
        "li[li['Scores']<33].sort_values(by='Scores').style.background_gradient(subset=['Scores'],cmap='OrRd_r')"
      ],
      "execution_count": 11,
      "outputs": [
        {
          "output_type": "execute_result",
          "data": {
            "text/html": [
              "<style  type=\"text/css\" >\n",
              "    #T_4ca4a586_f8b2_11ea_b146_0242ac1c0002row0_col1 {\n",
              "            background-color:  #7f0000;\n",
              "            color:  #f1f1f1;\n",
              "        }    #T_4ca4a586_f8b2_11ea_b146_0242ac1c0002row1_col1 {\n",
              "            background-color:  #d2291a;\n",
              "            color:  #f1f1f1;\n",
              "        }    #T_4ca4a586_f8b2_11ea_b146_0242ac1c0002row2_col1 {\n",
              "            background-color:  #e24831;\n",
              "            color:  #f1f1f1;\n",
              "        }    #T_4ca4a586_f8b2_11ea_b146_0242ac1c0002row3_col1 {\n",
              "            background-color:  #fc9b66;\n",
              "            color:  #000000;\n",
              "        }    #T_4ca4a586_f8b2_11ea_b146_0242ac1c0002row4_col1 {\n",
              "            background-color:  #fdb881;\n",
              "            color:  #000000;\n",
              "        }    #T_4ca4a586_f8b2_11ea_b146_0242ac1c0002row5_col1 {\n",
              "            background-color:  #fdd7a4;\n",
              "            color:  #000000;\n",
              "        }    #T_4ca4a586_f8b2_11ea_b146_0242ac1c0002row6_col1 {\n",
              "            background-color:  #fff7ec;\n",
              "            color:  #000000;\n",
              "        }    #T_4ca4a586_f8b2_11ea_b146_0242ac1c0002row7_col1 {\n",
              "            background-color:  #fff7ec;\n",
              "            color:  #000000;\n",
              "        }    #T_4ca4a586_f8b2_11ea_b146_0242ac1c0002row8_col1 {\n",
              "            background-color:  #fff7ec;\n",
              "            color:  #000000;\n",
              "        }</style><table id=\"T_4ca4a586_f8b2_11ea_b146_0242ac1c0002\" ><thead>    <tr>        <th class=\"blank level0\" ></th>        <th class=\"col_heading level0 col0\" >Hours</th>        <th class=\"col_heading level0 col1\" >Scores</th>    </tr></thead><tbody>\n",
              "                <tr>\n",
              "                        <th id=\"T_4ca4a586_f8b2_11ea_b146_0242ac1c0002level0_row0\" class=\"row_heading level0 row0\" >14</th>\n",
              "                        <td id=\"T_4ca4a586_f8b2_11ea_b146_0242ac1c0002row0_col0\" class=\"data row0 col0\" >1.100000</td>\n",
              "                        <td id=\"T_4ca4a586_f8b2_11ea_b146_0242ac1c0002row0_col1\" class=\"data row0 col1\" >17</td>\n",
              "            </tr>\n",
              "            <tr>\n",
              "                        <th id=\"T_4ca4a586_f8b2_11ea_b146_0242ac1c0002level0_row1\" class=\"row_heading level0 row1\" >5</th>\n",
              "                        <td id=\"T_4ca4a586_f8b2_11ea_b146_0242ac1c0002row1_col0\" class=\"data row1 col0\" >1.500000</td>\n",
              "                        <td id=\"T_4ca4a586_f8b2_11ea_b146_0242ac1c0002row1_col1\" class=\"data row1 col1\" >20</td>\n",
              "            </tr>\n",
              "            <tr>\n",
              "                        <th id=\"T_4ca4a586_f8b2_11ea_b146_0242ac1c0002level0_row2\" class=\"row_heading level0 row2\" >0</th>\n",
              "                        <td id=\"T_4ca4a586_f8b2_11ea_b146_0242ac1c0002row2_col0\" class=\"data row2 col0\" >2.500000</td>\n",
              "                        <td id=\"T_4ca4a586_f8b2_11ea_b146_0242ac1c0002row2_col1\" class=\"data row2 col1\" >21</td>\n",
              "            </tr>\n",
              "            <tr>\n",
              "                        <th id=\"T_4ca4a586_f8b2_11ea_b146_0242ac1c0002level0_row3\" class=\"row_heading level0 row3\" >17</th>\n",
              "                        <td id=\"T_4ca4a586_f8b2_11ea_b146_0242ac1c0002row3_col0\" class=\"data row3 col0\" >1.900000</td>\n",
              "                        <td id=\"T_4ca4a586_f8b2_11ea_b146_0242ac1c0002row3_col1\" class=\"data row3 col1\" >24</td>\n",
              "            </tr>\n",
              "            <tr>\n",
              "                        <th id=\"T_4ca4a586_f8b2_11ea_b146_0242ac1c0002level0_row4\" class=\"row_heading level0 row4\" >9</th>\n",
              "                        <td id=\"T_4ca4a586_f8b2_11ea_b146_0242ac1c0002row4_col0\" class=\"data row4 col0\" >2.700000</td>\n",
              "                        <td id=\"T_4ca4a586_f8b2_11ea_b146_0242ac1c0002row4_col1\" class=\"data row4 col1\" >25</td>\n",
              "            </tr>\n",
              "            <tr>\n",
              "                        <th id=\"T_4ca4a586_f8b2_11ea_b146_0242ac1c0002level0_row5\" class=\"row_heading level0 row5\" >2</th>\n",
              "                        <td id=\"T_4ca4a586_f8b2_11ea_b146_0242ac1c0002row5_col0\" class=\"data row5 col0\" >3.200000</td>\n",
              "                        <td id=\"T_4ca4a586_f8b2_11ea_b146_0242ac1c0002row5_col1\" class=\"data row5 col1\" >27</td>\n",
              "            </tr>\n",
              "            <tr>\n",
              "                        <th id=\"T_4ca4a586_f8b2_11ea_b146_0242ac1c0002level0_row6\" class=\"row_heading level0 row6\" >4</th>\n",
              "                        <td id=\"T_4ca4a586_f8b2_11ea_b146_0242ac1c0002row6_col0\" class=\"data row6 col0\" >3.500000</td>\n",
              "                        <td id=\"T_4ca4a586_f8b2_11ea_b146_0242ac1c0002row6_col1\" class=\"data row6 col1\" >30</td>\n",
              "            </tr>\n",
              "            <tr>\n",
              "                        <th id=\"T_4ca4a586_f8b2_11ea_b146_0242ac1c0002level0_row7\" class=\"row_heading level0 row7\" >16</th>\n",
              "                        <td id=\"T_4ca4a586_f8b2_11ea_b146_0242ac1c0002row7_col0\" class=\"data row7 col0\" >2.500000</td>\n",
              "                        <td id=\"T_4ca4a586_f8b2_11ea_b146_0242ac1c0002row7_col1\" class=\"data row7 col1\" >30</td>\n",
              "            </tr>\n",
              "            <tr>\n",
              "                        <th id=\"T_4ca4a586_f8b2_11ea_b146_0242ac1c0002level0_row8\" class=\"row_heading level0 row8\" >20</th>\n",
              "                        <td id=\"T_4ca4a586_f8b2_11ea_b146_0242ac1c0002row8_col0\" class=\"data row8 col0\" >2.700000</td>\n",
              "                        <td id=\"T_4ca4a586_f8b2_11ea_b146_0242ac1c0002row8_col1\" class=\"data row8 col1\" >30</td>\n",
              "            </tr>\n",
              "    </tbody></table>"
            ],
            "text/plain": [
              "<pandas.io.formats.style.Styler at 0x7f0e9e8cf940>"
            ]
          },
          "metadata": {
            "tags": []
          },
          "execution_count": 11
        }
      ]
    },
    {
      "cell_type": "code",
      "metadata": {
        "id": "pzcdwPIlX_FU",
        "colab_type": "code",
        "colab": {}
      },
      "source": [
        "li2=li.copy()\n",
        "li2.index=li2['Hours']\n",
        "li2.drop('Hours',axis=1,inplace=True)"
      ],
      "execution_count": 12,
      "outputs": []
    },
    {
      "cell_type": "code",
      "metadata": {
        "id": "vcRtRQPpYLH8",
        "colab_type": "code",
        "colab": {}
      },
      "source": [
        "li2.index=li2.index.astype('int')"
      ],
      "execution_count": 19,
      "outputs": []
    },
    {
      "cell_type": "markdown",
      "metadata": {
        "id": "KMFWLvwQYxLB",
        "colab_type": "text"
      },
      "source": [
        "**HOURS VS SCORES FOR BOTH THE PASSED AND FAILED STUDENTS**"
      ]
    },
    {
      "cell_type": "code",
      "metadata": {
        "id": "WlJuBJVlYTRE",
        "colab_type": "code",
        "colab": {
          "base_uri": "https://localhost:8080/",
          "height": 519
        },
        "outputId": "856c8383-8a4c-48d0-f2e4-3cf370e337e2"
      },
      "source": [
        "failed=li2.loc[li2.Scores<33]\n",
        "passed=li2.loc[li2.Scores>=33]\n",
        "ax=passed.groupby(passed.index).aggregate('mean').plot(style=['--'],color='Green',figsize=(10,8))\n",
        "failed.groupby(failed.index).aggregate('mean').plot(ax=ax,style=['-o'],color='Red')\n",
        "plt.plot(5,51.48,'ro',color='goldenrod',label=\"Average\")\n",
        "plt.xlabel(\"Hours Studied\")\n",
        "plt.ylabel(\"Scores\")\n",
        "# plt.title(\"Distribution of Scores\")\n",
        "plt.legend()"
      ],
      "execution_count": 13,
      "outputs": [
        {
          "output_type": "execute_result",
          "data": {
            "text/plain": [
              "<matplotlib.legend.Legend at 0x7f0e9e7ba5f8>"
            ]
          },
          "metadata": {
            "tags": []
          },
          "execution_count": 13
        },
        {
          "output_type": "display_data",
          "data": {
            "image/png": "[encoded data removed]",
            "text/plain": [
              "<Figure size 720x576 with 1 Axes>"
            ]
          },
          "metadata": {
            "tags": []
          }
        }
      ]
    },
    {
      "cell_type": "code",
      "metadata": {
        "id": "R2CEEwgiZT5S",
        "colab_type": "code",
        "colab": {
          "base_uri": "https://localhost:8080/",
          "height": 410
        },
        "outputId": "2f7a2fff-96d5-4f23-aedb-99f2ddbc99fe"
      },
      "source": [
        "li.plot(x='Hours', y='Scores', style='o',figsize=(9,6))  \n",
        "plt.title('HOURS vs SCORES')  \n",
        "plt.xlabel('Number of Hours ')  \n",
        "plt.ylabel('Percentage Score')  \n",
        "plt.show()\n"
      ],
      "execution_count": 15,
      "outputs": [
        {
          "output_type": "display_data",
          "data": {
            "image/png": "[encoded data removed]",
            "text/plain": [
              "<Figure size 648x432 with 1 Axes>"
            ]
          },
          "metadata": {
            "tags": []
          }
        }
      ]
    },
    {
      "cell_type": "markdown",
      "metadata": {
        "id": "JTuw-e5FZji-",
        "colab_type": "text"
      },
      "source": [
        "**TRAINING**"
      ]
    },
    {
      "cell_type": "code",
      "metadata": {
        "id": "6SQHxXwOZlZX",
        "colab_type": "code",
        "colab": {}
      },
      "source": [
        "from sklearn.model_selection import train_test_split\n",
        "from sklearn.linear_model import LinearRegression\n",
        "#Dividing the data into data and labels\n",
        "X=li['Hours'].values[:,np.newaxis]\n",
        "y=li['Scores'].values[:,np.newaxis]"
      ],
      "execution_count": 16,
      "outputs": []
    },
    {
      "cell_type": "code",
      "metadata": {
        "id": "1RvjHVM41isp",
        "colab_type": "code",
        "colab": {
          "base_uri": "https://localhost:8080/",
          "height": 85
        },
        "outputId": "630d4b5b-a22f-4013-fdfa-61a6e47b9c86"
      },
      "source": [
        "x_train,x_test,y_train,y_test=train_test_split(X,y,test_size=0.2,random_state=42)\n",
        "print(\"X Train\",x_train.shape)\n",
        "print(\"X Test\",x_test.shape)\n",
        "print(\"Y Train\",y_train.shape)\n",
        "print(\"Y Test\",y_test.shape)"
      ],
      "execution_count": 17,
      "outputs": [
        {
          "output_type": "stream",
          "text": [
            "X Train (20, 1)\n",
            "X Test (5, 1)\n",
            "Y Train (20, 1)\n",
            "Y Test (5, 1)\n"
          ],
          "name": "stdout"
        }
      ]
    },
    {
      "cell_type": "code",
      "metadata": {
        "id": "TYRqnhdX1vKA",
        "colab_type": "code",
        "colab": {
          "base_uri": "https://localhost:8080/",
          "height": 34
        },
        "outputId": "afe8aab0-7102-473e-db85-c33215fd70d1"
      },
      "source": [
        "import pickle\n",
        "l=LinearRegression()\n",
        "l.fit(x_train,y_train)\n",
        "filename = 'linear1_model.sav'\n",
        "pickle.dump(l, open(filename, 'wb'))\n",
        "print(\"Training Completed\")"
      ],
      "execution_count": 19,
      "outputs": [
        {
          "output_type": "stream",
          "text": [
            "Training Completed\n"
          ],
          "name": "stdout"
        }
      ]
    },
    {
      "cell_type": "code",
      "metadata": {
        "id": "Q9-28Q9a2Cxd",
        "colab_type": "code",
        "colab": {
          "base_uri": "https://localhost:8080/",
          "height": 285
        },
        "outputId": "dcfa5449-1e1b-467d-ec90-6efa9add674b"
      },
      "source": [
        "line=l.coef_*x_train+l.intercept_\n",
        "plt.scatter(x_train,y_train)\n",
        "plt.plot(x_train,line)"
      ],
      "execution_count": 20,
      "outputs": [
        {
          "output_type": "execute_result",
          "data": {
            "text/plain": [
              "[<matplotlib.lines.Line2D at 0x7f0e9e7d9400>]"
            ]
          },
          "metadata": {
            "tags": []
          },
          "execution_count": 20
        },
        {
          "output_type": "display_data",
          "data": {
            "image/png": "[encoded data removed]",
            "text/plain": [
              "<Figure size 432x288 with 1 Axes>"
            ]
          },
          "metadata": {
            "tags": []
          }
        }
      ]
    },
    {
      "cell_type": "markdown",
      "metadata": {
        "id": "SKC-B6Dh2F2x",
        "colab_type": "text"
      },
      "source": [
        "**PREDICTION**"
      ]
    },
    {
      "cell_type": "code",
      "metadata": {
        "id": "Sb5Cpu732LVs",
        "colab_type": "code",
        "colab": {}
      },
      "source": [
        "y_pred=l.predict(x_test).reshape(-1)"
      ],
      "execution_count": 24,
      "outputs": []
    },
    {
      "cell_type": "code",
      "metadata": {
        "id": "QA4IFGc42O20",
        "colab_type": "code",
        "colab": {
          "base_uri": "https://localhost:8080/",
          "height": 102
        },
        "outputId": "ba53f343-49aa-4563-bc03-c9f91e4fd035"
      },
      "source": [
        "y_test"
      ],
      "execution_count": 21,
      "outputs": [
        {
          "output_type": "execute_result",
          "data": {
            "text/plain": [
              "array([[81],\n",
              "       [30],\n",
              "       [21],\n",
              "       [76],\n",
              "       [62]])"
            ]
          },
          "metadata": {
            "tags": []
          },
          "execution_count": 21
        }
      ]
    },
    {
      "cell_type": "code",
      "metadata": {
        "id": "rOSCDp302ZCj",
        "colab_type": "code",
        "colab": {
          "base_uri": "https://localhost:8080/",
          "height": 204
        },
        "outputId": "6d7a98e7-52b4-465a-d542-6594d7905867"
      },
      "source": [
        "li3=pd.DataFrame({\n",
        "    'Predicted':y_pred,\n",
        "    'Actual':y_test.reshape(-1)})\n",
        "\n",
        "li3.index=np.arange(5)\n",
        "li3"
      ],
      "execution_count": 25,
      "outputs": [
        {
          "output_type": "execute_result",
          "data": {
            "text/html": [
              "<div>\n",
              "<style scoped>\n",
              "    .dataframe tbody tr th:only-of-type {\n",
              "        vertical-align: middle;\n",
              "    }\n",
              "\n",
              "    .dataframe tbody tr th {\n",
              "        vertical-align: top;\n",
              "    }\n",
              "\n",
              "    .dataframe thead th {\n",
              "        text-align: right;\n",
              "    }\n",
              "</style>\n",
              "<table border=\"1\" class=\"dataframe\">\n",
              "  <thead>\n",
              "    <tr style=\"text-align: right;\">\n",
              "      <th></th>\n",
              "      <th>Predicted</th>\n",
              "      <th>Actual</th>\n",
              "    </tr>\n",
              "  </thead>\n",
              "  <tbody>\n",
              "    <tr>\n",
              "      <th>0</th>\n",
              "      <td>83.188141</td>\n",
              "      <td>81</td>\n",
              "    </tr>\n",
              "    <tr>\n",
              "      <th>1</th>\n",
              "      <td>27.032088</td>\n",
              "      <td>30</td>\n",
              "    </tr>\n",
              "    <tr>\n",
              "      <th>2</th>\n",
              "      <td>27.032088</td>\n",
              "      <td>21</td>\n",
              "    </tr>\n",
              "    <tr>\n",
              "      <th>3</th>\n",
              "      <td>69.633232</td>\n",
              "      <td>76</td>\n",
              "    </tr>\n",
              "    <tr>\n",
              "      <th>4</th>\n",
              "      <td>59.951153</td>\n",
              "      <td>62</td>\n",
              "    </tr>\n",
              "  </tbody>\n",
              "</table>\n",
              "</div>"
            ],
            "text/plain": [
              "   Predicted  Actual\n",
              "0  83.188141      81\n",
              "1  27.032088      30\n",
              "2  27.032088      21\n",
              "3  69.633232      76\n",
              "4  59.951153      62"
            ]
          },
          "metadata": {
            "tags": []
          },
          "execution_count": 25
        }
      ]
    },
    {
      "cell_type": "code",
      "metadata": {
        "id": "HzlhjFoV3BzU",
        "colab_type": "code",
        "colab": {
          "base_uri": "https://localhost:8080/",
          "height": 34
        },
        "outputId": "d5e9d583-acad-44b1-cc6e-f9489b8d6b10"
      },
      "source": [
        "from sklearn import metrics  \n",
        "print('Mean Absolute Error:', \\\n",
        "round(metrics.mean_absolute_error(y_test, y_pred)),2)"
      ],
      "execution_count": 26,
      "outputs": [
        {
          "output_type": "stream",
          "text": [
            "Mean Absolute Error: 4.0 2\n"
          ],
          "name": "stdout"
        }
      ]
    },
    {
      "cell_type": "markdown",
      "metadata": {
        "id": "HZo9lMKd4F4A",
        "colab_type": "text"
      },
      "source": [
        "To predict the score for 9.25 hours of study\n"
      ]
    },
    {
      "cell_type": "code",
      "metadata": {
        "id": "ZC9Sj7Ne44Yi",
        "colab_type": "code",
        "colab": {
          "base_uri": "https://localhost:8080/",
          "height": 153
        },
        "outputId": "57ddf553-7ec3-42a6-902e-879e0f367c9e"
      },
      "source": [
        "\n",
        "hours=[9.25,2]\n",
        "n=np.array([9.25,2])[:,np.newaxis]\n",
        "p=l.predict(n)\n",
        "for h in range(len(hours)):\n",
        "    print(\"{0:20s} {1}\".format(\"Number of hours-\",hours[h]))\n",
        "    print(\"{0:20s} {1}\".format(\"Scores -\",round(p[h][0],1)))\n",
        "    print(\"\\n\")"
      ],
      "execution_count": 31,
      "outputs": [
        {
          "output_type": "stream",
          "text": [
            "Number of hours-     9.25\n",
            "Scores -             92.4\n",
            "\n",
            "\n",
            "Number of hours-     2\n",
            "Scores -             22.2\n",
            "\n",
            "\n"
          ],
          "name": "stdout"
        }
      ]
    },
    {
      "cell_type": "markdown",
      "metadata": {
        "id": "ocl-qhf2-3Mu",
        "colab_type": "text"
      },
      "source": [
        "**EVALUATING**"
      ]
    },
    {
      "cell_type": "code",
      "metadata": {
        "id": "KQK8pWhD-zVI",
        "colab_type": "code",
        "colab": {
          "base_uri": "https://localhost:8080/",
          "height": 34
        },
        "outputId": "3bc2112f-178c-4f72-b0b7-e276c14eeb16"
      },
      "source": [
        "from sklearn import metrics  \n",
        "print('Mean Absolute Error:', \n",
        "      metrics.mean_absolute_error(y_test, y_pred)) "
      ],
      "execution_count": 32,
      "outputs": [
        {
          "output_type": "stream",
          "text": [
            "Mean Absolute Error: 3.9207511902099244\n"
          ],
          "name": "stdout"
        }
      ]
    },
    {
      "cell_type": "markdown",
      "metadata": {
        "id": "HYPKXmh2--vN",
        "colab_type": "text"
      },
      "source": [
        "**TASK 2 COMPLETED**"
      ]
    }
  ]
}